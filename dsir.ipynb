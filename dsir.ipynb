{
  "nbformat": 4,
  "nbformat_minor": 0,
  "metadata": {
    "colab": {
      "provenance": [],
      "machine_shape": "hm"
    },
    "kernelspec": {
      "name": "python3",
      "display_name": "Python 3"
    },
    "language_info": {
      "name": "python"
    }
  },
  "cells": [
    {
      "cell_type": "code",
      "source": [
        "!pip install data_selection"
      ],
      "metadata": {
        "colab": {
          "base_uri": "https://localhost:8080/"
        },
        "id": "1gH6mkKo9AGo",
        "outputId": "95d5dc2f-497e-4e02-d0a4-6d51ddf4ca03"
      },
      "execution_count": null,
      "outputs": [
        {
          "output_type": "stream",
          "name": "stdout",
          "text": [
            "Collecting data_selection\n",
            "  Downloading data_selection-1.0.3-py3-none-any.whl (12 kB)\n",
            "Requirement already satisfied: numpy>=1.21.6 in /usr/local/lib/python3.10/dist-packages (from data_selection) (1.25.2)\n",
            "Requirement already satisfied: tqdm>=4.62.3 in /usr/local/lib/python3.10/dist-packages (from data_selection) (4.66.4)\n",
            "Requirement already satisfied: joblib>=1.1.0 in /usr/local/lib/python3.10/dist-packages (from data_selection) (1.4.2)\n",
            "Requirement already satisfied: nltk>=3.8.1 in /usr/local/lib/python3.10/dist-packages (from data_selection) (3.8.1)\n",
            "Requirement already satisfied: click in /usr/local/lib/python3.10/dist-packages (from nltk>=3.8.1->data_selection) (8.1.7)\n",
            "Requirement already satisfied: regex>=2021.8.3 in /usr/local/lib/python3.10/dist-packages (from nltk>=3.8.1->data_selection) (2024.5.15)\n",
            "Installing collected packages: data_selection\n",
            "Successfully installed data_selection-1.0.3\n"
          ]
        }
      ]
    },
    {
      "cell_type": "code",
      "source": [
        "import nltk\n",
        "nltk.download('punkt')"
      ],
      "metadata": {
        "colab": {
          "base_uri": "https://localhost:8080/"
        },
        "id": "OFWPLofDCTn3",
        "outputId": "b446b685-8a82-418a-ca71-ea80952b9527"
      },
      "execution_count": null,
      "outputs": [
        {
          "output_type": "stream",
          "name": "stderr",
          "text": [
            "[nltk_data] Downloading package punkt to /root/nltk_data...\n",
            "[nltk_data]   Unzipping tokenizers/punkt.zip.\n"
          ]
        },
        {
          "output_type": "execute_result",
          "data": {
            "text/plain": [
              "True"
            ]
          },
          "metadata": {},
          "execution_count": 4
        }
      ]
    },
    {
      "cell_type": "code",
      "execution_count": null,
      "metadata": {
        "id": "3DfunDbx82Mq"
      },
      "outputs": [],
      "source": [
        "import os\n",
        "from data_selection import HashedNgramDSIR\n",
        "\n",
        "raw_datasets = ['/content/drive/MyDrive/dsir/cc100_de_modified_utf8.jsonl']\n",
        "target_datasets = ['/content/drive/MyDrive/dsir/german_drama_text_modified.jsonl']\n",
        "\n",
        "dsir = HashedNgramDSIR(\n",
        "    raw_datasets=raw_datasets,\n",
        "    target_datasets=target_datasets,\n",
        "    cache_dir=r'/content/drive/MyDrive/dsir/dsir_cache',\n",
        "    tokenizer=\"word_tokenize\",\n",
        ")\n",
        "\n",
        "\n",
        "dsir.fit_importance_estimator(num_tokens_to_fit='auto')\n",
        "dsir.compute_importance_weights()\n",
        "dsir.resample(out_dir='resampled', num_to_sample=1000000, cache_dir=r'/content/drive/MyDrive/dsir/resampled_output')\n",
        "dsir.save(r'/content/drive/MyDrive/dsir/interm.pkl')\n",
        "dsir.load(r'/content/drive/MyDrive/dsir/interm.pkl')\n",
        "dsir.resample(out_dir=r'/content/drive/MyDrive/dsir/out_dir', num_to_sample=1000000, cache_dir=r'/content/drive/MyDrive/dsir/resampled_cache')\n"
      ]
    },
    {
      "cell_type": "code",
      "source": [],
      "metadata": {
        "id": "pG0vTAy91eeu"
      },
      "execution_count": null,
      "outputs": []
    }
  ]
}